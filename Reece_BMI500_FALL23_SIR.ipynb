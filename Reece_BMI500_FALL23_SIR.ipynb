{
 "cells": [
  {
   "cell_type": "markdown",
   "metadata": {},
   "source": [
    "**Shaniah Reece\n",
    "Modeling Homework \n",
    "Question set 1**\n",
    "SIR_Model Function"
   ]
  },
  {
   "cell_type": "markdown",
   "metadata": {},
   "source": [
    "**1A) Write a function in MATLAB or Python to implement the SIR model, using the following diffrential equations.**"
   ]
  },
  {
   "cell_type": "code",
   "execution_count": null,
   "metadata": {},
   "outputs": [],
   "source": [
    "#Write a Python function\n",
    "\n",
    "#S - Susceptible\n",
    "#I - Infected\n",
    "#R - Recovered\n",
    "#beta  - transmisson rate\n",
    "#lamda - recovery rate\n",
    "\n",
    "def SIR_model(y, t, beta, gamma):\n",
    "\n",
    "    S, I , R = y\n",
    "    dSdt = (-beta * S * I)\n",
    "    dIdt = beta * S * I - (gamma * I)\n",
    "    dRdt = gamma * I\n",
    "    return [dSdt, dIdt, dRdt]\n",
    "   \n",
    "\n",
    "   "
   ]
  }
 ],
 "metadata": {
  "language_info": {
   "name": "python"
  }
 },
 "nbformat": 4,
 "nbformat_minor": 2
}
