{
 "cells": [
  {
   "cell_type": "markdown",
   "metadata": {},
   "source": [
    "**Shaniah Reece\n",
    "Modeling Homework \n",
    "Question set 1**\n",
    "SEIR_Model Function"
   ]
  },
  {
   "cell_type": "markdown",
   "metadata": {},
   "source": [
    "**(2A) Implement the susceptible-exposed-infectious-recovered (SEIR) model, introducing an “Exposed” compartment and considering birth and death rates. The differential equations are:**"
   ]
  },
  {
   "cell_type": "code",
   "execution_count": 3,
   "metadata": {},
   "outputs": [],
   "source": [
    "#Write a Python function\n",
    "\n",
    "#S - Susceptible\n",
    "#I - Infected\n",
    "#E - Exposed Population\n",
    "#R - Recovered\n",
    "\n",
    "#beta  - transmisson rate\n",
    "#lamda - recovery rate\n",
    "#sigma - rate at which exposed individuals become infectious\n",
    "#mu    - natural birth and death rate\n",
    "\n",
    "#N     - total population\n",
    "#        N = S+E+I+R\n",
    "\n",
    "def SEIR_model(y, t, beta, gamma, sigma, mu):\n",
    "\n",
    "    S, E, I, R = y\n",
    "    dSdt = (mu * N) - (beta * S * I) - (mu * S)\n",
    "    dEdt = (beta * S * I) - (sigma + mu)*E\n",
    "    dIdt = (sigma * E) - (gamma + mu)*I\n",
    "    dRdt = (gamma * I) - (mu * R)\n",
    "    return [dSdt, dEdt, dIdt, dRdt]"
   ]
  }
 ],
 "metadata": {
  "kernelspec": {
   "display_name": "base",
   "language": "python",
   "name": "python3"
  },
  "language_info": {
   "codemirror_mode": {
    "name": "ipython",
    "version": 3
   },
   "file_extension": ".py",
   "mimetype": "text/x-python",
   "name": "python",
   "nbconvert_exporter": "python",
   "pygments_lexer": "ipython3",
   "version": "3.9.12"
  }
 },
 "nbformat": 4,
 "nbformat_minor": 2
}
